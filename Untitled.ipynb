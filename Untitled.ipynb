{
 "cells": [
  {
   "cell_type": "markdown",
   "id": "17497740",
   "metadata": {},
   "source": [
    "Importing the necessary Libraries for the Code:"
   ]
  },
  {
   "cell_type": "code",
   "execution_count": 3,
   "id": "96caeacd-90f4-41e3-9534-5e62c56ac759",
   "metadata": {},
   "outputs": [],
   "source": [
    "import os\n",
    "import cv2 as cv\n",
    "import torch\n",
    "import torch.nn as nn\n",
    "import torch.nn.functional as F\n",
    "import numpy as np\n",
    "import pandas as pd\n",
    "import matplotlib.pyplot as plt"
   ]
  },
  {
   "cell_type": "markdown",
   "id": "02ee3417",
   "metadata": {},
   "source": [
    "Function for loading the Images from The datasets :"
   ]
  },
  {
   "cell_type": "code",
   "execution_count": 45,
   "id": "042bbb10-2156-461d-961a-e3b6e1329c5c",
   "metadata": {},
   "outputs": [],
   "source": [
    "def IMG_Loading(dset_path):\n",
    "    images = []\n",
    "    names = []\n",
    "    for subfolder in os.listdir(dset_path):\n",
    "        subfolder_path = os.path.join(dset_path, subfolder)\n",
    "        for IMG in os.listdir(subfolder_path):\n",
    "                img_path = os.path.join(subfolder_path, IMG)\n",
    "                img = cv.imread(img_path) \n",
    "                if img is not None:\n",
    "                    images.append(img)\n",
    "                    names.append(subfolder)\n",
    "    return images, names"
   ]
  },
  {
   "cell_type": "code",
   "execution_count": 38,
   "id": "6f3251f0-1955-4e15-ae74-68cbd685ff99",
   "metadata": {},
   "outputs": [],
   "source": [
    "def Parent_child_pair(images): \n",
    "    pairs = []\n",
    "    labels = []\n",
    "    num_images = len(images)\n",
    "    for i in range(0, num_images, 2):\n",
    "        if i + 1 < num_images:\n",
    "            parent_image = images[i]\n",
    "            child_image = images[i + 1] \n",
    "            pairs.append((parent_image, child_image)) \n",
    "            labels.append(1)  \n",
    "    return np.array(pairs), np.array(labels)"
   ]
  },
  {
   "cell_type": "code",
   "execution_count": 39,
   "id": "12b0f313-9a0d-4089-96ba-a006b6a97596",
   "metadata": {},
   "outputs": [],
   "source": [
    "def preprocess_image(image):\n",
    "    image_resized = cv.resize(image, (224, 224))\n",
    "    image_normalized = image_resized / 255.0 \n",
    "    return image_normalized "
   ]
  },
  {
   "cell_type": "code",
   "execution_count": 46,
   "id": "776a5fd9-54c3-4f99-8c51-93447a224e40",
   "metadata": {},
   "outputs": [
    {
     "name": "stdout",
     "output_type": "stream",
     "text": [
      "Number of images loaded: 2000\n",
      "Names: {'mother-son', 'father-son', 'father-dau', 'mother-dau'}\n"
     ]
    }
   ],
   "source": [
    "\n",
    "IMGs, NAMES = IMG_Loading(\"E:\\Facial Features Similarity (BYOP)\\data\\KinFaceW-II\\images\")\n",
    "    \n",
    "print(f\"Number of images loaded: {len(IMGs)}\")\n",
    "print(f\"Names: {set(NAMES)}\")    "
   ]
  },
  {
   "cell_type": "code",
   "execution_count": 48,
   "id": "4b8dd692-d7c2-4209-92c1-45b10eecf3b3",
   "metadata": {},
   "outputs": [
    {
     "name": "stdout",
     "output_type": "stream",
     "text": [
      "Number of preprocessed images: 2000\n"
     ]
    }
   ],
   "source": [
    "images_preprocessed = [preprocess_image(img) for img in IMGs] \n",
    "random=np.random.randint(0,1999) #generates a random image to be displayed after preprocessing from y dataset.\n",
    "sample_image = images_preprocessed[random]\n",
    "cv.imshow(f'Image no.{random}', sample_image) \n",
    "cv.waitKey(0)\n",
    "\n",
    "print(f'Number of preprocessed images: {len(images_preprocessed)}')"
   ]
  },
  {
   "cell_type": "code",
   "execution_count": 43,
   "id": "36fa39a0-1bae-40c8-a74b-7855be1ca318",
   "metadata": {},
   "outputs": [
    {
     "name": "stdout",
     "output_type": "stream",
     "text": [
      "Number of parent-child pairs created: 1000\n",
      "Sample pair labels: [1 1 1 1 1 1 1 1 1 1]\n"
     ]
    }
   ],
   "source": [
    "parent_child_pairs, pair_labels = Parent_child_pair(images_preprocessed) \n",
    "\n",
    "print(f'Number of parent-child pairs created: {len(parent_child_pairs)}') \n",
    "print(f'Sample pair labels: {pair_labels[:10]}')"
   ]
  },
  {
   "cell_type": "code",
   "execution_count": null,
   "id": "db13e35e-49e4-4eca-80d1-96ffb73c3b15",
   "metadata": {},
   "outputs": [],
   "source": [
    "class SNN_ARCHITECTURE(nn.modules):\n",
    "    def__init__(self):\n",
    "      super(SNN_ARCHITECTURE,self).__init__()\n",
    "    self.cnn = nn.Sequential(\n",
    "    nn.Conv2d(3, 32, kernel_size=3, stride=1, padding=1),\n",
    "    nn.ReLU(),\n",
    "    nn.MaxPool2d(kernel_size=2, stride=2),\n",
    "    nn.Conv2d(32, 64, kernel_size=3, stride=1, padding=1),\n",
    "    nn.ReLU(),\n",
    "    nn.MaxPool2d(kernel_size=2, stride=2)\n",
    ")\n",
    "\n",
    "self.fc = nn.Sequential(\n",
    "    nn.Linear(64 * 28 * 28, 512),\n",
    "    nn.ReLU(),\n",
    "    nn.Linear(512, 128)\n",
    ")\n"
   ]
  }
 ],
 "metadata": {
  "kernelspec": {
   "display_name": "Python 3 (ipykernel)",
   "language": "python",
   "name": "python3"
  },
  "language_info": {
   "codemirror_mode": {
    "name": "ipython",
    "version": 3
   },
   "file_extension": ".py",
   "mimetype": "text/x-python",
   "name": "python",
   "nbconvert_exporter": "python",
   "pygments_lexer": "ipython3",
   "version": "3.10.0"
  }
 },
 "nbformat": 4,
 "nbformat_minor": 5
}
